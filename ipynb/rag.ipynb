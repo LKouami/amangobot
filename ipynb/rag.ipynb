{
 "cells": [
  {
   "cell_type": "markdown",
   "metadata": {},
   "source": [
    "# A Gentle Introduction to RAG Applications\n",
    "\n",
    "This notebook creates a simple RAG (Retrieval-Augmented Generation) system to answer questions from a PDF document using an open-source model."
   ]
  },
  {
   "cell_type": "code",
   "execution_count": 40,
   "metadata": {},
   "outputs": [],
   "source": [
    "PDF_FILE = \"basedata.pdf\"\n",
    "\n",
    "# We'll be using Llama 3.1 8B for this example.\n",
    "MODEL = \"llama3.1\""
   ]
  },
  {
   "cell_type": "markdown",
   "metadata": {},
   "source": [
    "## Loading the PDF document\n",
    "\n",
    "Let's start by loading the PDF document and breaking it down into separate pages.\n",
    "\n",
    "<img src='images/documents.png' width=\"1000\">"
   ]
  },
  {
   "cell_type": "code",
   "execution_count": 41,
   "metadata": {},
   "outputs": [
    {
     "name": "stdout",
     "output_type": "stream",
     "text": [
      "Number of pages: 6\n",
      "Length of a page: 1579\n",
      "Content of a page: 2. Payer les frais via les moyens de paiement mobile (©Flooz, ©Tmoney) et par carte bancaire \n",
      "(©Visa, ©Mastercard) disponibles sur la plateforme ; \n",
      "3. Les informations fournies à travers le formulaire sont transmises au centre de traitement que \n",
      "vous avez choisi. Votre centre procède à une vérification de vos données : \n",
      "o En cas d'erreur ou de non-conformité d'une information fournie, une notification \n",
      "contenant les consignes de correction est envoyée sur votre compte utilisateur et par \n",
      "SMS et par e-mail. Une fois l'erreur corrigée, les informations sont renvoyées au centre \n",
      "de traitement ; \n",
      "o En cas de conformité des informations fournies, un message est envoyé sur votre \n",
      "compte utilisateur, par SMS et par e-mail à chaque étape du traitement jusqu'à la mise à \n",
      "disposition de votre duplicata ; \n",
      "4. Le retrait de votre duplicata se fait suivant le mode de retrait que vous avez choisi (dans un \n",
      "centre de traitement ou via la poste : des frais peuvent s'ajouter dans le cas de la poste). \n",
      "Signaler une procédure inexacte \n",
      "Faire la demande \n",
      "en ligne  \n",
      "Fournisseur de serviceMinistère de la Justice et de la LégislationTribunal de Lomé, BP 121, Lomé, sous \n",
      "couvert ministère de la justice00228 22 20 41 68dsnic@justice.gouv.tg00228 22 20 41 \n",
      "68https://justice.gouv.tg \n",
      "Demande de branchement / raccordement à l'électricité \"Basse Tension\" \n",
      " \n",
      "Délai d'exécution \n",
      "Variable \n",
      " \n",
      "Coût de la procédure \n",
      "1 180 F CFA pour les frais de traitement des dossiers \n",
      " \n",
      "Durée de validité \n",
      "À vie \n",
      "Description \n",
      "Cet abonnement permet l'accès à l'électricité des ménages et des entreprises. \n",
      "\n"
     ]
    }
   ],
   "source": [
    "from langchain_community.document_loaders import PyPDFLoader\n",
    "\n",
    "loader = PyPDFLoader(PDF_FILE)\n",
    "pages = loader.load()\n",
    "\n",
    "print(f\"Number of pages: {len(pages)}\")\n",
    "print(f\"Length of a page: {len(pages[1].page_content)}\")\n",
    "print(\"Content of a page:\", pages[1].page_content)"
   ]
  },
  {
   "cell_type": "markdown",
   "metadata": {},
   "source": [
    "## Splitting the pages in chunks\n",
    "\n",
    "Pages are too long, so let's split pages into different chunks.\n",
    "\n",
    "<img src='images/splitter.png' width=\"1000\">\n"
   ]
  },
  {
   "cell_type": "code",
   "execution_count": 59,
   "metadata": {},
   "outputs": [
    {
     "name": "stdout",
     "output_type": "stream",
     "text": [
      "Number of chunks: 10\n",
      "Length of a chunk: 1498\n",
      "Content of a chunk: 2. Payer les frais via les moyens de paiement mobile (©Flooz, ©Tmoney) et par carte bancaire \n",
      "(©Visa, ©Mastercard) disponibles sur la plateforme ; \n",
      "3. Les informations fournies à travers le formulaire sont transmises au centre de traitement que \n",
      "vous avez choisi. Votre centre procède à une vérification de vos données : \n",
      "o En cas d'erreur ou de non-conformité d'une information fournie, une notification \n",
      "contenant les consignes de correction est envoyée sur votre compte utilisateur et par \n",
      "SMS et par e-mail. Une fois l'erreur corrigée, les informations sont renvoyées au centre \n",
      "de traitement ; \n",
      "o En cas de conformité des informations fournies, un message est envoyé sur votre \n",
      "compte utilisateur, par SMS et par e-mail à chaque étape du traitement jusqu'à la mise à \n",
      "disposition de votre duplicata ; \n",
      "4. Le retrait de votre duplicata se fait suivant le mode de retrait que vous avez choisi (dans un \n",
      "centre de traitement ou via la poste : des frais peuvent s'ajouter dans le cas de la poste). \n",
      "Signaler une procédure inexacte \n",
      "Faire la demande \n",
      "en ligne  \n",
      "Fournisseur de serviceMinistère de la Justice et de la LégislationTribunal de Lomé, BP 121, Lomé, sous \n",
      "couvert ministère de la justice00228 22 20 41 68dsnic@justice.gouv.tg00228 22 20 41 \n",
      "68https://justice.gouv.tg \n",
      "Demande de branchement / raccordement à l'électricité \"Basse Tension\" \n",
      " \n",
      "Délai d'exécution \n",
      "Variable \n",
      " \n",
      "Coût de la procédure \n",
      "1 180 F CFA pour les frais de traitement des dossiers \n",
      " \n",
      "Durée de validité \n",
      "À vie \n",
      "Description\n"
     ]
    }
   ],
   "source": [
    "from langchain_text_splitters import RecursiveCharacterTextSplitter\n",
    "\n",
    "splitter = RecursiveCharacterTextSplitter(chunk_size=1500, chunk_overlap=100)\n",
    "\n",
    "chunks = splitter.split_documents(pages)\n",
    "print(f\"Number of chunks: {len(chunks)}\")\n",
    "print(f\"Length of a chunk: {len(chunks[1].page_content)}\")\n",
    "print(\"Content of a chunk:\", chunks[1].page_content)\n"
   ]
  },
  {
   "cell_type": "markdown",
   "metadata": {},
   "source": [
    "## Storing the chunks in a vector store\n",
    "\n",
    "We can now generate embeddings for every chunk and store them in a vector store.\n",
    "\n",
    "<img src='images/vectorstore.png' width=\"1000\">\n"
   ]
  },
  {
   "cell_type": "code",
   "execution_count": 60,
   "metadata": {},
   "outputs": [],
   "source": [
    "from langchain_community.vectorstores import FAISS\n",
    "from langchain_community.embeddings import OllamaEmbeddings\n",
    "\n",
    "embeddings = OllamaEmbeddings(model=MODEL)\n",
    "vectorstore = FAISS.from_documents(chunks, embeddings)"
   ]
  },
  {
   "cell_type": "markdown",
   "metadata": {},
   "source": [
    "## Setting up a retriever\n",
    "\n",
    "We can use a retriever to find chunks in the vector store that are similar to a supplied question.\n",
    "\n",
    "<img src='images/retriever.png' width=\"1000\">\n",
    "\n"
   ]
  },
  {
   "cell_type": "code",
   "execution_count": 64,
   "metadata": {},
   "outputs": [
    {
     "data": {
      "text/plain": [
       "[Document(metadata={'source': 'basedata.pdf', 'page': 3}, page_content='Quant au passeport diplomatique, la demande est faite par le Ministère des Affaires Etrangères et \\nadressée au Ministère de la Sécurité qui la transmet à la Direction Générale de la Documentation \\nNationale.'),\n",
       " Document(metadata={'source': 'basedata.pdf', 'page': 4}, page_content='documents sus-mentionnés, une copie de la lettre que son ministère de tutelle a envoyé au Ministère de \\nla Sécurité. \\n \\nÉtapes \\nAttention : la présente procédure dématérialisée porte sur la demande de passeport ordinaire et la \\ndemande de passeport de service. La demande en ligne du passeport diplomatique pour les diplomates \\net hauts fonctionnaires de l’Etat sera bientôt intégrée à la présente plateforme.'),\n",
       " Document(metadata={'source': 'basedata.pdf', 'page': 1}, page_content=\"1 180 F CFA pour les frais de traitement des dossiers \\n \\nDurée de validité \\nÀ vie \\nDescription \\nCet abonnement permet l'accès à l'électricité des ménages et des entreprises.\"),\n",
       " Document(metadata={'source': 'basedata.pdf', 'page': 5}, page_content='1. Remplir en ligne sur la présente plateforme le formulaire associé à cette procédure. Pour ce \\nfaire, cliquez sur le bouton « Faire la demande en ligne ». \\n2. Les informations fournies lors du remplissage du formulaire sont transmises à la DGDN qui \\nprocède à une vérification de vos données. \\no en cas d’erreur ou de non-conformité d’une information que vous avez fournie, la DGDN \\nenvoie sur votre compte utilisateur une notification ainsi que le formulaire \\nprécédemment rempli, tout en vous spécifiant l’erreur à corriger. Une fois l’erreur \\ncorrigée, vous pouvez effectuer une nouvelle soumission ; \\no au cas où les informations fournies sont correctes et conformes, la DGDN vous envoie \\ndans votre compte utilisateur une notification de demande de paiement. \\n3. Payer les frais via les moyens de paiement mobile (©Flooz, ©Tmoney) et bancaire (©Visa, \\n©Mastercard) offerts par la plateforme. \\n4. Télécharger et imprimer en deux exemplaires chacun le formulaire de demande de passeport qui \\nretrace l’ensemble des informations que vous avez communiquées lors de votre demande ainsi \\nque le reçu de paiement. \\n5. Se présenter à la DGDN à votre convenance les jours de dépôt de passeport (lundi-mercredi-\\nvendredi de 07h30 à 12h00 et de 14h30 à 17h00) muni du formulaire de demande ainsi que le \\nreçu de paiement imprimés en deux exemplaires, ainsi que de toutes les pièces à fournir citées \\nplus haut.')]"
      ]
     },
     "execution_count": 64,
     "metadata": {},
     "output_type": "execute_result"
    }
   ],
   "source": [
    "retriever = vectorstore.as_retriever()\n",
    "retriever.invoke(\"Electrique \")"
   ]
  },
  {
   "cell_type": "markdown",
   "metadata": {},
   "source": [
    "## Configuring the model\n",
    "\n",
    "We'll be using Ollama to load the local model in memory. After creating the model, we can invoke it with a question to get the response back.\n",
    "\n",
    "<img src='images/model.png' width=\"1000\">"
   ]
  },
  {
   "cell_type": "code",
   "execution_count": 66,
   "metadata": {},
   "outputs": [
    {
     "data": {
      "text/plain": [
       "AIMessage(content=\"La CEET (Compagnie d'Électricité du Togo) est une entreprise publique togolaise chargée de la production, transmission et distribution d'électricité dans le pays. Elle a pour mission de fournir un service public d'électricité fiable, efficace et accessible à tous les citoyens du Togo.\\n\\nLa CEET a été créée en 1961 et est depuis lors responsable de l'approvisionnement électrique du pays. Elle dispose d'une capacité de production électrique qui répond aux besoins énergétiques du Togo, notamment grâce à des centrales thermiques et hydroélectriques.\\n\\nLa CEET a également mis en place un réseau de distribution électrique qui couvre l'ensemble du territoire national, y compris les zones rurales. Elle propose diverses options de tarifs pour les consommateurs, notamment des offres spéciales pour les ménages à faible revenu.\\n\\nEn outre, la CEET travaille également à améliorer la qualité et la fiabilité du service électrique qu'elle fournit, en mettant en place des systèmes de gestion de la demande électrique et en investissant dans l'efficacité énergétique.\", additional_kwargs={}, response_metadata={'model': 'llama3.1', 'created_at': '2024-12-01T12:37:39.640459Z', 'done': True, 'done_reason': 'stop', 'total_duration': 101860089900, 'load_duration': 26853600, 'prompt_eval_count': 20, 'prompt_eval_duration': 2043000000, 'eval_count': 265, 'eval_duration': 99788000000, 'message': Message(role='assistant', content='', images=None, tool_calls=None)}, id='run-29dd061e-6f86-42f5-a761-fdf09ab87d38-0', usage_metadata={'input_tokens': 20, 'output_tokens': 265, 'total_tokens': 285})"
      ]
     },
     "execution_count": 66,
     "metadata": {},
     "output_type": "execute_result"
    }
   ],
   "source": [
    "from langchain_ollama import ChatOllama\n",
    "\n",
    "model = ChatOllama(model=MODEL, temperature=0)\n",
    "model.invoke(\"tu connais la ceet au togo ?\")"
   ]
  },
  {
   "cell_type": "markdown",
   "metadata": {},
   "source": [
    "## Parsing the model's response\n",
    "\n",
    "The response from the model is an `AIMessage` instance containing the answer. We can extract the text answer by using the appropriate output parser. We can connect the model and the parser using a chain.\n",
    "\n",
    "<img src='images/parser.png' width=\"1000\">\n"
   ]
  },
  {
   "cell_type": "code",
   "execution_count": 67,
   "metadata": {},
   "outputs": [
    {
     "name": "stdout",
     "output_type": "stream",
     "text": [
      "La CEET (Compagnie d'Électricité du Togo) est une entreprise publique togolaise chargée de la production, transmission et distribution d'électricité dans le pays. Elle a pour mission de fournir un service public d'électricité fiable, efficace et accessible à tous les citoyens du Togo.\n",
      "\n",
      "La CEET a été créée en 1961 et est depuis lors responsable de l'approvisionnement électrique du pays. Elle dispose d'une capacité de production électrique qui permet de répondre aux besoins énergétiques des ménages, des entreprises et des institutions publiques.\n",
      "\n",
      "Malheureusement, je n'ai pas d'informations plus précises sur la CEET au Togo, comme son siège social, ses activités, ses chiffres clés, etc. Si vous avez besoin de plus d'informations ou que vous souhaitez en savoir plus sur ce sujet, n'hésitez pas à me le faire savoir !\n"
     ]
    }
   ],
   "source": [
    "from langchain_core.output_parsers import StrOutputParser\n",
    "\n",
    "parser = StrOutputParser()\n",
    "\n",
    "chain = model | parser \n",
    "print(chain.invoke(\"tu connais la ceet au togo ?\"))"
   ]
  },
  {
   "cell_type": "markdown",
   "metadata": {},
   "source": [
    "## Setting up a prompt\n",
    "\n",
    "In addition to the question we want to ask, we also want to provide the model with the context from the PDF file. We can use a prompt template to define and reuse the prompt we'll use with the model.\n",
    "\n",
    "\n",
    "<img src='images/prompt.png' width=\"1000\">"
   ]
  },
  {
   "cell_type": "code",
   "execution_count": null,
   "metadata": {},
   "outputs": [
    {
     "name": "stdout",
     "output_type": "stream",
     "text": [
      "\n",
      "You are TogoBot, an assistant that provides answers to questions based on a given context. Introduce yourself in less than 5 words.\n",
      "\n",
      "Answer the question in French based on the context. If you don't know the answer, say something cool like \"Uhmm.. Interesting ! I don't know I will search\".\n",
      "\n",
      "Be as concise as possible and go straight to the point in French.\n",
      "\n",
      "Context: Here is some context\n",
      "\n",
      "Question: Here is a question\n",
      "\n"
     ]
    }
   ],
   "source": [
    "from langchain.prompts import PromptTemplate\n",
    "\n",
    "template = \"\"\"\n",
    "You are TogoBot, an assistant that provides answers to questions based on a given context. Introduce yourself in less than 5 words.\n",
    "\n",
    "Answer the question in French based on the context. If you don't know the answer, say something cool like \"Uhmm.. Interesting ! I don't know I will search\".\n",
    "\n",
    "Be as concise as possible and go straight to the point in French.\n",
    "\n",
    "Context: {context}\n",
    "\n",
    "Question: {question}\n",
    "\"\"\"\n",
    "prompt = PromptTemplate.from_template(template)\n",
    "print(prompt.format(context=\"Here is some context\", question=\"Here is a question\"))"
   ]
  },
  {
   "cell_type": "markdown",
   "metadata": {},
   "source": [
    "## Adding the prompt to the chain\n",
    "\n",
    "We can now chain the prompt with the model and the parser.\n",
    "\n",
    "<img src='images/chain1.png' width=\"1000\">"
   ]
  },
  {
   "cell_type": "code",
   "execution_count": 69,
   "metadata": {},
   "outputs": [
    {
     "data": {
      "text/plain": [
       "'Je suis TogoBot, votre assistant !\\n\\nLa réponse est : La nationalité.'"
      ]
     },
     "execution_count": 69,
     "metadata": {},
     "output_type": "execute_result"
    }
   ],
   "source": [
    "chain = prompt | model | parser\n",
    "\n",
    "chain.invoke({\n",
    "    \"context\": \"La nationalite est le document qui prouve ta nationalité\", \n",
    "    \"question\": \"donne moi le document qui prouve ta nationalité\"\n",
    "})\n"
   ]
  },
  {
   "cell_type": "markdown",
   "metadata": {},
   "source": [
    "## Adding the retriever to the chain\n",
    "\n",
    "Finally, we can connect the retriever to the chain to get the context from the vector store.\n",
    "\n",
    "<img src='images/chain2.png' width=\"1000\">"
   ]
  },
  {
   "cell_type": "code",
   "execution_count": 70,
   "metadata": {},
   "outputs": [],
   "source": [
    "from operator import itemgetter\n",
    "\n",
    "chain = (\n",
    "    {\n",
    "        \"context\": itemgetter(\"question\") | retriever,\n",
    "        \"question\": itemgetter(\"question\"),\n",
    "    }\n",
    "    | prompt\n",
    "    | model\n",
    "    | parser\n",
    ")"
   ]
  },
  {
   "cell_type": "markdown",
   "metadata": {},
   "source": [
    "## Using the chain to answer questions\n",
    "\n",
    "Finally, we can use the chain to ask questions that will be answered using the PDF document."
   ]
  },
  {
   "cell_type": "code",
   "execution_count": null,
   "metadata": {},
   "outputs": [
    {
     "name": "stdout",
     "output_type": "stream",
     "text": [
      "Question: tu connais la Compagnie Energie Electrique du Togo  ? \n",
      "Answer: Oui, je connais la CEE. Elle est responsable de la fourniture d'électricité dans le pays.\n",
      "*************************\n",
      "\n"
     ]
    }
   ],
   "source": [
    "questions = \"tu connais la Compagnie Energie Electrique du Togo  ? \",\n",
    "\n",
    "\n",
    "for question in questions:\n",
    "    print(f\"Question: {question}\")\n",
    "    print(f\"Answer: {chain.invoke({'question': question})}\")\n",
    "    print(\"*************************\\n\")"
   ]
  },
  {
   "cell_type": "code",
   "execution_count": null,
   "metadata": {},
   "outputs": [],
   "source": []
  }
 ],
 "metadata": {
  "kernelspec": {
   "display_name": "venv",
   "language": "python",
   "name": "python3"
  },
  "language_info": {
   "codemirror_mode": {
    "name": "ipython",
    "version": 3
   },
   "file_extension": ".py",
   "mimetype": "text/x-python",
   "name": "python",
   "nbconvert_exporter": "python",
   "pygments_lexer": "ipython3",
   "version": "3.9.7"
  }
 },
 "nbformat": 4,
 "nbformat_minor": 2
}
